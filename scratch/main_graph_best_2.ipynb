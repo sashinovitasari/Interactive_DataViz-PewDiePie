{
 "cells": [
  {
   "cell_type": "code",
   "execution_count": 1,
   "metadata": {},
   "outputs": [],
   "source": [
    "import pandas as pd\n",
    "import datetime\n",
    "from bokeh.io import show, output_file\n",
    "from bokeh.models import ColumnDataSource, HoverTool\n",
    "from bokeh.plotting import figure\n",
    "from bokeh.palettes import Spectral5, Spectral4\n",
    "from bokeh.sampledata.autompg import autompg_clean as df\n",
    "from bokeh.transform import factor_cmap\n",
    "\n",
    "# Load data, creating data\n",
    "table = pd.read_csv('data/growths_top.csv')\n",
    "df = table.PewDiePie.to_frame()\n",
    "replacement = {}\n",
    "i = 0\n",
    "month = 4\n",
    "years = []\n",
    "year = 2015\n",
    "for index, row in df.iterrows():\n",
    "    if month == 13:\n",
    "        month = 1\n",
    "        year += 1\n",
    "    month_str = datetime.date(1900, month, 1).strftime('%B')\n",
    "            \n",
    "    replacement[i] = '{}-{}'.format(month, year)\n",
    "    years.append(year)\n",
    "\n",
    "    month += 1\n",
    "    i += 1\n",
    "\n",
    "df.rename(replacement, inplace=True)\n",
    "df['year'] = years"
   ]
  },
  {
   "cell_type": "code",
   "execution_count": 5,
   "metadata": {},
   "outputs": [
    {
     "data": {
      "text/plain": [
       "[2015, 2016, 2017]"
      ]
     },
     "execution_count": 5,
     "metadata": {},
     "output_type": "execute_result"
    }
   ],
   "source": [
    "list(df.year.unique())"
   ]
  },
  {
   "cell_type": "code",
   "execution_count": 25,
   "metadata": {},
   "outputs": [
    {
     "name": "stderr",
     "output_type": "stream",
     "text": [
      "ERROR:bokeh.core.validation.check:E-1001 (BAD_COLUMN_NAME): Glyph refers to nonexistent column name: date_time [renderer: GlyphRenderer(id='280c5089-2ed4-4071-be01-7fef561536dc', ...)]\n",
      "ERROR:bokeh.core.validation.check:E-1001 (BAD_COLUMN_NAME): Glyph refers to nonexistent column name: date_time [renderer: GlyphRenderer(id='515bf2bd-ac2c-45f5-8ae1-94dc83615faf', ...)]\n",
      "ERROR:bokeh.core.validation.check:E-1001 (BAD_COLUMN_NAME): Glyph refers to nonexistent column name: date_time [renderer: GlyphRenderer(id='80ce964b-492f-4203-8532-b2cc2c2377ae', ...)]\n",
      "ERROR:bokeh.core.validation.check:E-1001 (BAD_COLUMN_NAME): Glyph refers to nonexistent column name: date_time [renderer: GlyphRenderer(id='64513ba7-6cfe-4eb6-95a9-2835d29cdb0e', ...)]\n",
      "ERROR:bokeh.core.validation.check:E-1001 (BAD_COLUMN_NAME): Glyph refers to nonexistent column name: date_time [renderer: GlyphRenderer(id='d42e0d38-f9c5-44f3-9e1c-673482e234e2', ...)]\n",
      "ERROR:bokeh.core.validation.check:E-1001 (BAD_COLUMN_NAME): Glyph refers to nonexistent column name: date_time [renderer: GlyphRenderer(id='f5b83925-ec1f-4321-8967-8c687dc4b25e', ...)]\n"
     ]
    }
   ],
   "source": [
    "from bokeh.core.properties import value\n",
    "from bokeh.io import show, output_file\n",
    "from bokeh.models import ColumnDataSource\n",
    "from bokeh.plotting import figure\n",
    "from bokeh.transform import dodge\n",
    "\n",
    "output_file(\"dodged_bars.html\")\n",
    "\n",
    "date_time = ['Apples', 'Pears', 'Nectarines', 'Plums', 'Grapes', 'Strawberries']\n",
    "years = ['2015', '2016', '2017']\n",
    "\n",
    "data = {'date_time' : date_time,\n",
    "        '2015'   : [2, 1, 4, 3, 2, 4],\n",
    "        '2016'   : [5, 3, 3, 2, 4, 6],\n",
    "        '2017'   : [3, 2, 4, 4, 5, 3]}\n",
    "\n",
    "source = ColumnDataSource(data=data)\n",
    "\n",
    "p = figure(x_range=date_time, y_range=(0, 60000000), plot_height=250, title=\"Fruit Counts by Year\",\n",
    "            toolbar_location=None, tools=\"\")\n",
    "\n",
    "p.vbar(x=dodge('date_time', -0.25, range=p.x_range), top='2015', width=0.2, source=source,\n",
    "       color=\"#c9d9d3\", legend=value(\"2015\"))\n",
    "\n",
    "p.vbar(x=dodge('date_time',  0.0,  range=p.x_range), top='2016', width=0.2, source=source,\n",
    "       color=\"#718dbf\", legend=value(\"2016\"))\n",
    "\n",
    "p.vbar(x=dodge('date_time',  0.25, range=p.x_range), top='2017', width=0.2, source=source,\n",
    "       color=\"#e84d60\", legend=value(\"2017\"))\n",
    "\n",
    "p.x_range.range_padding = 0.1\n",
    "p.xgrid.grid_line_color = None\n",
    "p.legend.location = \"top_left\"\n",
    "p.legend.orientation = \"horizontal\"\n",
    "\n",
    "show(p)\n"
   ]
  },
  {
   "cell_type": "code",
   "execution_count": null,
   "metadata": {},
   "outputs": [],
   "source": []
  }
 ],
 "metadata": {
  "kernelspec": {
   "display_name": "Python 3",
   "language": "python",
   "name": "python3"
  },
  "language_info": {
   "codemirror_mode": {
    "name": "ipython",
    "version": 3
   },
   "file_extension": ".py",
   "mimetype": "text/x-python",
   "name": "python",
   "nbconvert_exporter": "python",
   "pygments_lexer": "ipython3",
   "version": "3.5.5"
  }
 },
 "nbformat": 4,
 "nbformat_minor": 2
}
