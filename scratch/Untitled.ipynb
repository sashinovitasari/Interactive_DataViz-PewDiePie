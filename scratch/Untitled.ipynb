{
 "cells": [
  {
   "cell_type": "code",
   "execution_count": 3,
   "metadata": {},
   "outputs": [],
   "source": [
    "def make_dataset(carrier_list, range_start = -60, range_end = 120, bin_width = 5):\n",
    "\n",
    "    # Check to make sure the start is less than the end!\n",
    "    assert range_start < range_end, \"Start must be less than end!\"\n",
    "    \n",
    "    by_carrier = pd.DataFrame(columns=['proportion', 'left', 'right', \n",
    "                                       'f_proportion', 'f_interval',\n",
    "                                       'name', 'color'])\n",
    "    range_extent = range_end - range_start\n",
    "    \n",
    "    # Iterate through all the carriers\n",
    "    for i, carrier_name in enumerate(carrier_list):\n",
    "\n",
    "        # Subset to the carrier\n",
    "        subset = flights[flights['name'] == carrier_name]\n",
    "\n",
    "        # Create a histogram with specified bins and range\n",
    "        arr_hist, edges = np.histogram(subset['arr_delay'], \n",
    "                                       bins = int(range_extent / bin_width), \n",
    "                                       range = [range_start, range_end])\n",
    "\n",
    "        # Divide the counts by the total to get a proportion and create df\n",
    "        arr_df = pd.DataFrame({'proportion': arr_hist / np.sum(arr_hist), \n",
    "                               'left': edges[:-1], 'right': edges[1:] })\n",
    "\n",
    "        # Format the proportion \n",
    "        arr_df['f_proportion'] = ['%0.5f' % proportion for proportion in arr_df['proportion']]\n",
    "\n",
    "        # Format the interval\n",
    "        arr_df['f_interval'] = ['%d to %d minutes' % (left, right) for left, \n",
    "                                right in zip(arr_df['left'], arr_df['right'])]\n",
    "\n",
    "        # Assign the carrier for labels\n",
    "        arr_df['name'] = carrier_name\n",
    "\n",
    "        # Color each carrier differently\n",
    "        arr_df['color'] = Category20_16[i]\n",
    "\n",
    "        # Add to the overall dataframe\n",
    "        by_carrier = by_carrier.append(arr_df)\n",
    "\n",
    "    # Overall dataframe\n",
    "    by_carrier = by_carrier.sort_values(['name', 'left'])\n",
    "    \n",
    "    # Convert dataframe to column data source\n",
    "    return ColumnDataSource(by_carrier)"
   ]
  },
  {
   "cell_type": "code",
   "execution_count": 5,
   "metadata": {},
   "outputs": [],
   "source": [
    "\n",
    "def make_plot(src):\n",
    "        # Blank plot with correct labels\n",
    "        p = figure(plot_width = 700, plot_height = 700, \n",
    "                  title = 'Histogram of Arrival Delays by Carrier',\n",
    "                  x_axis_label = 'Delay (min)', y_axis_label = 'Proportion')\n",
    "\n",
    "        # Quad glyphs to create a histogram\n",
    "        p.quad(source = src, bottom = 0, top = 'proportion', left = 'left', right = 'right',\n",
    "               color = 'color', fill_alpha = 0.7, hover_fill_color = 'color', legend = 'name',\n",
    "               hover_fill_alpha = 1.0, line_color = 'black')\n",
    "\n",
    "        # Hover tool with vline mode\n",
    "        hover = HoverTool(tooltips=[('Carrier', '@name'), \n",
    "                                    ('Delay', '@f_interval'),\n",
    "                                    ('Proportion', '@f_proportion')],\n",
    "                          mode='vline')\n",
    "\n",
    "        p.add_tools(hover)\n",
    "\n",
    "        # Styling\n",
    "        p = style(p)\n",
    "\n",
    "        return p "
   ]
  },
  {
   "cell_type": "code",
   "execution_count": 7,
   "metadata": {},
   "outputs": [],
   "source": [
    "# Update function takes three default parameters\n",
    "def update(attr, old, new):\n",
    "    # Get the list of carriers for the graph\n",
    "    carriers_to_plot = [carrier_selection.labels[i] for i in \n",
    "                        carrier_selection.active]\n",
    "    # Make a new dataset based on the selected carriers and the \n",
    "    # make_dataset function defined earlier\n",
    "    new_src = make_dataset(carriers_to_plot,\n",
    "                           range_start = -60,\n",
    "                           range_end = 120,\n",
    "                           bin_width = 5)\n",
    "    # Update the source used in the quad glpyhs\n",
    "    src.data.update(new_src.data)"
   ]
  },
  {
   "cell_type": "code",
   "execution_count": null,
   "metadata": {},
   "outputs": [],
   "source": []
  }
 ],
 "metadata": {
  "kernelspec": {
   "display_name": "Python 3",
   "language": "python",
   "name": "python3"
  },
  "language_info": {
   "codemirror_mode": {
    "name": "ipython",
    "version": 3
   },
   "file_extension": ".py",
   "mimetype": "text/x-python",
   "name": "python",
   "nbconvert_exporter": "python",
   "pygments_lexer": "ipython3",
   "version": "3.5.5"
  }
 },
 "nbformat": 4,
 "nbformat_minor": 2
}
