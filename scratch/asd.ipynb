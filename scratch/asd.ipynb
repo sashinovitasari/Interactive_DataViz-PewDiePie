{
 "cells": [
  {
   "cell_type": "code",
   "execution_count": 36,
   "metadata": {},
   "outputs": [],
   "source": [
    "data = {}\n",
    "last_add = 0\n",
    "for index, row in df.iterrows():\n",
    "    try:\n",
    "        data[int(index)].append(row.PewDiePie)\n",
    "    except:\n",
    "        data[int(index)] = [row.PewDiePie]\n",
    "\n",
    "for key, value in data.items():\n",
    "    while len(data[key]) < 3:\n",
    "        data[key] = [0] + value"
   ]
  },
  {
   "cell_type": "code",
   "execution_count": 37,
   "metadata": {},
   "outputs": [
    {
     "data": {
      "text/plain": [
       "{1: [0, 41131656, 51617009],\n",
       " 2: [0, 41740632, 52712443],\n",
       " 3: [0, 42370268, 53765451],\n",
       " 4: [35530088, 42912756, 54301946],\n",
       " 5: [36168693, 43501267, 54707342],\n",
       " 6: [36768508, 44617297, 55064461],\n",
       " 7: [37432374, 45576949, 55798040],\n",
       " 8: [38235047, 46762751, 56446495],\n",
       " 9: [38836029, 47446800, 56985807],\n",
       " 10: [39438173, 47984010, 57201026],\n",
       " 11: [39990232, 48831019, 57543249],\n",
       " 12: [40477991, 49199545, 57929718]}"
      ]
     },
     "execution_count": 37,
     "metadata": {},
     "output_type": "execute_result"
    }
   ],
   "source": [
    "data"
   ]
  },
  {
   "cell_type": "code",
   "execution_count": 7,
   "metadata": {},
   "outputs": [],
   "source": [
    "import pandas as pd\n",
    "import datetime\n",
    "from bokeh.io import show, output_file\n",
    "from bokeh.models import ColumnDataSource, HoverTool\n",
    "from bokeh.plotting import figure\n",
    "from bokeh.palettes import Spectral5, Spectral4\n",
    "from bokeh.sampledata.autompg import autompg_clean as df\n",
    "from bokeh.transform import factor_cmap\n",
    "\n",
    "# Load data, creating data\n",
    "table = pd.read_csv('data/growths_top.csv')\n",
    "df = table.PewDiePie.to_frame()\n",
    "replacement = {}\n",
    "i = 0\n",
    "month = 4\n",
    "years = []\n",
    "year = 2015\n",
    "for index, row in df.iterrows():\n",
    "    if month == 13:\n",
    "        month = 1\n",
    "        year += 1\n",
    "    month_str = datetime.date(1900, month, 1).strftime('%B')\n",
    "            \n",
    "    replacement[i] = '{}'.format(month, year)\n",
    "    years.append(year)\n",
    "    row['month'] = month\n",
    "\n",
    "    month += 1\n",
    "    i += 1\n",
    "\n",
    "df.rename(replacement, inplace=True)\n",
    "df['year'] = years"
   ]
  },
  {
   "cell_type": "code",
   "execution_count": 8,
   "metadata": {},
   "outputs": [
    {
     "data": {
      "text/html": [
       "<div>\n",
       "<style scoped>\n",
       "    .dataframe tbody tr th:only-of-type {\n",
       "        vertical-align: middle;\n",
       "    }\n",
       "\n",
       "    .dataframe tbody tr th {\n",
       "        vertical-align: top;\n",
       "    }\n",
       "\n",
       "    .dataframe thead th {\n",
       "        text-align: right;\n",
       "    }\n",
       "</style>\n",
       "<table border=\"1\" class=\"dataframe\">\n",
       "  <thead>\n",
       "    <tr style=\"text-align: right;\">\n",
       "      <th></th>\n",
       "      <th>PewDiePie</th>\n",
       "      <th>year</th>\n",
       "    </tr>\n",
       "  </thead>\n",
       "  <tbody>\n",
       "    <tr>\n",
       "      <th>4</th>\n",
       "      <td>35530088</td>\n",
       "      <td>2015</td>\n",
       "    </tr>\n",
       "    <tr>\n",
       "      <th>5</th>\n",
       "      <td>36168693</td>\n",
       "      <td>2015</td>\n",
       "    </tr>\n",
       "    <tr>\n",
       "      <th>6</th>\n",
       "      <td>36768508</td>\n",
       "      <td>2015</td>\n",
       "    </tr>\n",
       "    <tr>\n",
       "      <th>7</th>\n",
       "      <td>37432374</td>\n",
       "      <td>2015</td>\n",
       "    </tr>\n",
       "    <tr>\n",
       "      <th>8</th>\n",
       "      <td>38235047</td>\n",
       "      <td>2015</td>\n",
       "    </tr>\n",
       "  </tbody>\n",
       "</table>\n",
       "</div>"
      ],
      "text/plain": [
       "   PewDiePie  year\n",
       "4   35530088  2015\n",
       "5   36168693  2015\n",
       "6   36768508  2015\n",
       "7   37432374  2015\n",
       "8   38235047  2015"
      ]
     },
     "execution_count": 8,
     "metadata": {},
     "output_type": "execute_result"
    }
   ],
   "source": [
    "df.head()"
   ]
  },
  {
   "cell_type": "code",
   "execution_count": 10,
   "metadata": {},
   "outputs": [],
   "source": [
    "from bokeh.core.properties import value\n",
    "from bokeh.io import show, output_file\n",
    "from bokeh.models import ColumnDataSource\n",
    "from bokeh.plotting import figure\n",
    "from bokeh.transform import dodge\n",
    "\n",
    "output_file(\"dodged_bars.html\")\n",
    "\n",
    "fruits = list(df.index.unique())\n",
    "years = ['2015', '2016', '2017']\n",
    "\n",
    "data = {'fruits' : [1,2,],\n",
    "        '2015'   : [2, 1, 4, 3, 2, 4, 2, 3, 4, 4, 1, 2],\n",
    "        '2016'   : [5, 3, 3, 2, 4, 6, 2, 3, 4, 4, 1, 2],\n",
    "        '2017'   : [3, 2, 4, 4, 5, 3, 2, 3, 4, 4, 1, 2]}\n",
    "\n",
    "source = ColumnDataSource(data=data)\n",
    "\n",
    "p = figure(x_range=fruits, y_range=(0, 10), plot_height=250, title=\"Fruit Counts by Year\",\n",
    "           toolbar_location=None, tools=\"\")\n",
    "\n",
    "p.vbar(x=dodge('fruits', -0.25, range=p.x_range), top='2015', width=0.2, source=source,\n",
    "       color=\"#c9d9d3\", legend=value(\"2015\"))\n",
    "\n",
    "p.vbar(x=dodge('fruits',  0.0,  range=p.x_range), top='2016', width=0.2, source=source,\n",
    "       color=\"#718dbf\", legend=value(\"2016\"))\n",
    "\n",
    "p.vbar(x=dodge('fruits',  0.25, range=p.x_range), top='2017', width=0.2, source=source,\n",
    "       color=\"#e84d60\", legend=value(\"2017\"))\n",
    "\n",
    "p.x_range.range_padding = 0.1\n",
    "p.xgrid.grid_line_color = None\n",
    "p.legend.location = \"top_left\"\n",
    "p.legend.orientation = \"horizontal\"\n",
    "\n",
    "show(p)"
   ]
  },
  {
   "cell_type": "code",
   "execution_count": null,
   "metadata": {},
   "outputs": [],
   "source": []
  }
 ],
 "metadata": {
  "kernelspec": {
   "display_name": "Python 3",
   "language": "python",
   "name": "python3"
  },
  "language_info": {
   "codemirror_mode": {
    "name": "ipython",
    "version": 3
   },
   "file_extension": ".py",
   "mimetype": "text/x-python",
   "name": "python",
   "nbconvert_exporter": "python",
   "pygments_lexer": "ipython3",
   "version": "3.5.5"
  }
 },
 "nbformat": 4,
 "nbformat_minor": 2
}
