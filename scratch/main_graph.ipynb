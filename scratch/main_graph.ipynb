{
 "cells": [
  {
   "cell_type": "code",
   "execution_count": 19,
   "metadata": {},
   "outputs": [],
   "source": [
    "from bokeh.io import show, output_file\n",
    "from bokeh.models import ColumnDataSource, HoverTool\n",
    "from bokeh.plotting import figure\n",
    "from bokeh.palettes import Spectral5\n",
    "from bokeh.sampledata.autompg import autompg_clean as df\n",
    "from bokeh.transform import factor_cmap\n",
    "\n",
    "output_file(\"bars.html\")\n",
    "\n",
    "df.cyl = df.cyl.astype(str)\n",
    "df.yr = df.yr.astype(str)\n",
    "\n",
    "group = df.groupby(('cyl', 'mfr'))\n",
    "\n",
    "source = ColumnDataSource(group)\n",
    "index_cmap = factor_cmap('cyl_mfr', palette=Spectral5, factors=sorted(df.cyl.unique()), end=1)\n",
    "\n",
    "p = figure(plot_width=800, plot_height=300, title=\"Mean MPG by # Cylinders and Manufacturer\",\n",
    "           x_range=group, toolbar_location=None, tools=\"\")\n",
    "\n",
    "p.vbar(x='cyl_mfr', top='mpg_mean', width=1, source=source,\n",
    "       line_color=\"white\", fill_color=index_cmap, )\n",
    "\n",
    "p.y_range.start = 0\n",
    "p.x_range.range_padding = 0.05\n",
    "p.xgrid.grid_line_color = None\n",
    "p.xaxis.axis_label = \"Manufacturer grouped by # Cylinders\"\n",
    "p.xaxis.major_label_orientation = 1.2\n",
    "p.outline_line_color = None\n",
    "\n",
    "p.add_tools(HoverTool(tooltips=[(\"MPG\", \"@mpg_mean\"), (\"Cyl, Mfr\", \"@cyl_mfr\")]))\n",
    "\n",
    "show(p)"
   ]
  },
  {
   "cell_type": "code",
   "execution_count": 67,
   "metadata": {},
   "outputs": [],
   "source": [
    "import pandas as pd\n",
    "import datetime\n",
    "\n",
    "table = pd.read_csv('data/growths_top.csv')\n",
    "poods_growth = table.PewDiePie.to_frame()\n",
    "replacement = {}\n",
    "i = 0\n",
    "month = 4\n",
    "years = []\n",
    "year = 2015\n",
    "for index, row in poods_growth.iterrows():\n",
    "    if month == 13:\n",
    "        month = 1\n",
    "        year += 1\n",
    "    month_str = datetime.date(1900, month, 1).strftime('%B')\n",
    "            \n",
    "    replacement[i] = '{}'.format(month, year)\n",
    "    years.append(year)\n",
    "\n",
    "    month += 1\n",
    "    i += 1\n",
    "\n",
    "poods_growth.rename(replacement, inplace=True)\n",
    "poods_growth['year'] = years"
   ]
  },
  {
   "cell_type": "code",
   "execution_count": 77,
   "metadata": {},
   "outputs": [],
   "source": [
    "group = poods_growth.groupby(('year')).count()"
   ]
  },
  {
   "cell_type": "code",
   "execution_count": 74,
   "metadata": {},
   "outputs": [
    {
     "data": {
      "text/html": [
       "<div>\n",
       "<style scoped>\n",
       "    .dataframe tbody tr th:only-of-type {\n",
       "        vertical-align: middle;\n",
       "    }\n",
       "\n",
       "    .dataframe tbody tr th {\n",
       "        vertical-align: top;\n",
       "    }\n",
       "\n",
       "    .dataframe thead th {\n",
       "        text-align: right;\n",
       "    }\n",
       "</style>\n",
       "<table border=\"1\" class=\"dataframe\">\n",
       "  <thead>\n",
       "    <tr style=\"text-align: right;\">\n",
       "      <th></th>\n",
       "      <th>PewDiePie</th>\n",
       "    </tr>\n",
       "    <tr>\n",
       "      <th>year</th>\n",
       "      <th></th>\n",
       "    </tr>\n",
       "  </thead>\n",
       "  <tbody>\n",
       "    <tr>\n",
       "      <th>2015</th>\n",
       "      <td>9</td>\n",
       "    </tr>\n",
       "    <tr>\n",
       "      <th>2016</th>\n",
       "      <td>12</td>\n",
       "    </tr>\n",
       "    <tr>\n",
       "      <th>2017</th>\n",
       "      <td>12</td>\n",
       "    </tr>\n",
       "    <tr>\n",
       "      <th>2018</th>\n",
       "      <td>3</td>\n",
       "    </tr>\n",
       "  </tbody>\n",
       "</table>\n",
       "</div>"
      ],
      "text/plain": [
       "      PewDiePie\n",
       "year           \n",
       "2015          9\n",
       "2016         12\n",
       "2017         12\n",
       "2018          3"
      ]
     },
     "execution_count": 74,
     "metadata": {},
     "output_type": "execute_result"
    }
   ],
   "source": [
    "group"
   ]
  },
  {
   "cell_type": "code",
   "execution_count": 56,
   "metadata": {},
   "outputs": [
    {
     "data": {
      "text/plain": [
       "4       35530088\n",
       "5       36168693\n",
       "6       36768508\n",
       "7       37432374\n",
       "8       38235047\n",
       "9       38836029\n",
       "10      39438173\n",
       "11      39990232\n",
       "12      40477991\n",
       "1       41131656\n",
       "2       41740632\n",
       "3       42370268\n",
       "4       42912756\n",
       "5       43501267\n",
       "6       44617297\n",
       "7       45576949\n",
       "8       46762751\n",
       "9       47446800\n",
       "10      47984010\n",
       "11      48831019\n",
       "12      49199545\n",
       "1       51617009\n",
       "2       52712443\n",
       "3       53765451\n",
       "4       54301946\n",
       "5       54707342\n",
       "6       55064461\n",
       "7       55798040\n",
       "8       56446495\n",
       "9       56985807\n",
       "10      57201026\n",
       "11      57543249\n",
       "12      57929718\n",
       "1       58634820\n",
       "2       60253411\n",
       "3       61006277\n",
       "year           1\n",
       "Name: PewDiePie, dtype: int64"
      ]
     },
     "execution_count": 56,
     "metadata": {},
     "output_type": "execute_result"
    }
   ],
   "source": [
    "poods_growth"
   ]
  },
  {
   "cell_type": "code",
   "execution_count": null,
   "metadata": {},
   "outputs": [],
   "source": []
  }
 ],
 "metadata": {
  "kernelspec": {
   "display_name": "Python 3",
   "language": "python",
   "name": "python3"
  },
  "language_info": {
   "codemirror_mode": {
    "name": "ipython",
    "version": 3
   },
   "file_extension": ".py",
   "mimetype": "text/x-python",
   "name": "python",
   "nbconvert_exporter": "python",
   "pygments_lexer": "ipython3",
   "version": "3.5.5"
  }
 },
 "nbformat": 4,
 "nbformat_minor": 2
}
