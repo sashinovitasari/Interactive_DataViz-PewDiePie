{
 "cells": [
  {
   "cell_type": "code",
   "execution_count": 35,
   "metadata": {},
   "outputs": [
    {
     "name": "stderr",
     "output_type": "stream",
     "text": [
      "C:\\Users\\ramos\\Anaconda3\\envs\\tensorflow-gpu\\lib\\site-packages\\bokeh\\models\\sources.py:114: BokehUserWarning: ColumnDataSource's columns must be of the same length. Current lengths: ('color', 6), ('date', 33), ('subs_count', 33)\n",
      "  \"Current lengths: %s\" % \", \".join(sorted(str((k, len(v))) for k, v in data.items())), BokehUserWarning))\n",
      "ERROR:bokeh.core.validation.check:E-1001 (BAD_COLUMN_NAME): Glyph refers to nonexistent column name: counts, fruits [renderer: GlyphRenderer(id='72cf2aec-e414-44a7-8d12-d7afbd659528', ...)]\n"
     ]
    }
   ],
   "source": [
    "import pandas as pd\n",
    "import datetime\n",
    "from bokeh.io import show, output_file\n",
    "from bokeh.models import ColumnDataSource, HoverTool\n",
    "from bokeh.plotting import figure\n",
    "from bokeh.palettes import Spectral5, Spectral4\n",
    "from bokeh.sampledata.autompg import autompg_clean as df\n",
    "from bokeh.transform import factor_cmap\n",
    "\n",
    "# Load data, creating data\n",
    "table = pd.read_csv('data/growths_top.csv')\n",
    "df = table.PewDiePie.to_frame()\n",
    "replacement = {}\n",
    "i = 0\n",
    "month = 4\n",
    "years = []\n",
    "year = 2015\n",
    "for index, row in df.iterrows():\n",
    "    if month == 13:\n",
    "        month = 1\n",
    "        year += 1\n",
    "    month_str = datetime.date(1900, month, 1).strftime('%B')\n",
    "            \n",
    "    replacement[i] = '{}'.format(month, year)\n",
    "    years.append(year)\n",
    "    row['month'] = month\n",
    "\n",
    "    month += 1\n",
    "    i += 1\n",
    "\n",
    "df.rename(replacement, inplace=True)\n",
    "df['year'] = years\n",
    "\n",
    "SelfSpectral = []\n",
    "\n",
    "output_file(\"colormapped_bars.html\")\n",
    "\n",
    "date = list(df.index)\n",
    "subs_count = df.PewDiePie\n",
    "\n",
    "source = ColumnDataSource(data=dict(date=date, subs_count=subs_count, color=Spectral6))\n",
    "\n",
    "p = figure(x_range=date, y_range=(0,max(subs_count)), plot_height=250, title=\"Subscriber Gain\",\n",
    "           toolbar_location=None, tools=\"\")\n",
    "\n",
    "p.vbar(x='date', top='subs_count', width=0.5, color='color', source=source)\n",
    "\n",
    "p.xgrid.grid_line_color = None\n",
    "p.legend.orientation = \"horizontal\"\n",
    "p.legend.location = \"top_center\"\n",
    "\n",
    "show(p)"
   ]
  },
  {
   "cell_type": "code",
   "execution_count": null,
   "metadata": {},
   "outputs": [],
   "source": []
  }
 ],
 "metadata": {
  "kernelspec": {
   "display_name": "Python 3",
   "language": "python",
   "name": "python3"
  },
  "language_info": {
   "codemirror_mode": {
    "name": "ipython",
    "version": 3
   },
   "file_extension": ".py",
   "mimetype": "text/x-python",
   "name": "python",
   "nbconvert_exporter": "python",
   "pygments_lexer": "ipython3",
   "version": "3.5.5"
  }
 },
 "nbformat": 4,
 "nbformat_minor": 2
}
